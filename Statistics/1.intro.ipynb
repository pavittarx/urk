{
 "cells": [
  {
   "cell_type": "code",
   "execution_count": 1,
   "metadata": {},
   "outputs": [],
   "source": [
    "import numpy as np;\n",
    "import pandas as pd;\n",
    "import scipy.stats as stats;\n",
    "\n",
    "import wquantiles as wq;\n",
    "\n",
    "from statsmodels import robust;\n",
    "import matplotlib;\n",
    "import matplotlib.pylab as plt;\n",
    "\n",
    "import seaborn as sns;"
   ]
  },
  {
   "attachments": {},
   "cell_type": "markdown",
   "metadata": {},
   "source": [
    "##### More Resources \n",
    "* https://onlinestatbook.com/2/introduction/importanceM.html\n",
    "* "
   ]
  },
  {
   "attachments": {},
   "cell_type": "markdown",
   "metadata": {},
   "source": [
    "# Chapter 1: Exploratory Data Analysis \n",
    "\n",
    "-----"
   ]
  },
  {
   "attachments": {},
   "cell_type": "markdown",
   "metadata": {},
   "source": [
    "\n",
    "\n",
    "## Elements of Structured Data\n",
    "\n",
    "* Tables w/ Rows & Columns -> commonest form of structured data. \n",
    "\n",
    "#### Types of Structured Data\n",
    "\n",
    "- Numeric\n",
    "   - Continous (wind speed, time duration, temprature ...)\n",
    "   -  Discrete (count) \n",
    "- Categorial\n",
    "  - Binary Data, (only two options are available)\n",
    "  - Ordinal Data  (numerical rating, ranking, ...)\n",
    "\n",
    "** Why are data types important? \n",
    "- It helps determine the type of visual display, data analysis &/ statistical model.\n",
    "- It helps as a signal to the software on how to process the data.\n",
    "### Rectangular Data\n",
    "\n",
    "* Spreadsheet / Database Table / Dataframe (R/Python). \n",
    "* 2D matrix, with rows indicating records (cases), and columns indicating features (variables).\n",
    "\n",
    "* Raw/ Unstructured data (text) is processed and manipulated, so that it can be represented in a Dataframe.  \n",
    "* Data in relational databases must be extracted and put into a single table foe most data analysis and modelling tasks.\n",
    "\n",
    "\n",
    "### Dataframe and Indexes\n",
    "\n",
    "Dataframe - Rectangular data, like spreadsheet for statistical and machine learning models.\n",
    "\n",
    "  In Python with Pandas, an automatic index is created for DataFrame based on the order of the rows. In Pandas, it is also possible to set multilevel/hierarchial indexes, to improve efficiency of certain opoerations. \n",
    "  \n",
    "  In R, native data.frame does not support user-specified / multilevel indexes. Use packages `data.table` or `dplyr`.\n",
    "\n",
    "\n",
    "### Terminology Differences\n",
    "  * Predictor Variable (Features) are used to prdict a response (target) or dependent variable. \n",
    "  * For Data Scientists, a sample is a single row. Meanwhile, sample to a statistician means a collection of row. \n",
    "\n",
    "\n",
    "### Non Rectangular Data Structures\n",
    "\n",
    "*Time Series* data records successive measurements of the same variable. Raw material for statistical forecasting methods. It is the key component of the data produced by IOT devices. \n",
    "\n",
    "*Spatial* data structures, used in mapping and location analytics are more complex and varied than rectangular data stuructures. \n",
    "\n",
    "*Graph* or network data structures are used to represent physical, social & abstract relationships. Graph structures are useful for problems like, network optimisation and recommender systems. \n",
    "\n",
    "---------------------------------------"
   ]
  },
  {
   "attachments": {},
   "cell_type": "markdown",
   "metadata": {},
   "source": [
    "## Estimates of Location\n",
    "Variables / Features can have thousands of distinct values. A basic exploration step is getting an estimate, where most of the data is located (central tendency)."
   ]
  },
  {
   "attachments": {},
   "cell_type": "markdown",
   "metadata": {},
   "source": [
    "### Key Estimates of Location\n",
    "\n",
    "- Mean, Trimmed/Truncated Mean, Weighted Mean\n",
    "- Median, Weighted Median\n",
    "- Percentile, Quantile\n",
    "- Robust/Resistant* - *not sensitive to extreme values*\n",
    "- Outlier/ Extreme Value - *a value different from most of the data*\n",
    "\n",
    "It must be noted that Mean may not always be the best measure central value. There are several other alternative estimates to the mean. \n",
    "\n",
    "#### Mean\n",
    "Mean (or avaerage value), is the most basic estimate of location. It is sum of all values divided by the number of values. \n",
    "\n",
    "$\n",
    "\\begin{aligned}\n",
    "Mean, \\bar{x} = \\frac{\\sum_{i=1}^{n}x_i}{n} \\\\\n",
    "\\end{aligned}\n",
    "$\n",
    "\n",
    "$\\bar{x}$ = Mean / Average Value\n",
    "\n",
    "$x_i$ = value of i^th observation, \n",
    "\n",
    "n - total number of observations"
   ]
  },
  {
   "attachments": {},
   "cell_type": "markdown",
   "metadata": {},
   "source": [
    "#### Trimmed Mean\n",
    "It is a variation of mean, **eliminates the influence of extreme values.** \n",
    "\n",
    "For sorted values, $x_1, x_2, ..... x_n$, where $x_1$ is the smallest, and $x_n$ is the largest. Some of the values on both ends are dropped, and then avaerage is taken of the remaining values.\n",
    "\n",
    "$\n",
    "\\begin{aligned}\n",
    "  \\text{Trimmed Mean, } \\bar{x}=\\frac{\\sum_{i=p+1}^{n-p}{x_i}}{n-2p}\n",
    "\\end{aligned}\n",
    "$\n",
    "\n",
    "For example, in international diving the top score and bottom score from five judges are dropped, and the\n",
    "final score is the average of the scores from the three remaining judge"
   ]
  },
  {
   "attachments": {},
   "cell_type": "markdown",
   "metadata": {},
   "source": [
    "### Weighted Mean\n",
    "It is calculated by multiplying data valuem $x_i$ by user specified weight, $w_i$, and dividing their sum by sum of weights. \n",
    "\n",
    "$\n",
    "\\begin{aligned}\n",
    "  \\text{Weighted Mean, } \\bar{x}{_w} = \\frac{\\sum^{n}_{i=1}{w_i}{x_i}}{\\sum^{n}_{i=1}{w_i}}\n",
    "\\end{aligned}\n",
    "$\n",
    "\n",
    "- Some values are intrinsically more variable than others, and **highly variable\n",
    "observations are given a lower weight**. For example, if we are taking the average\n",
    "from multiple sensors and one of the sensors is less accurate, then we might\n",
    "downweight the data from that sensor.\n",
    "\n",
    "- The data collected does not equally represent the different groups that we are\n",
    "interested in measuring. For example, because of the way an online experiment\n",
    "was conducted, we may not have a set of data that accurately reflects all groups in\n",
    "the user base. To correct that, we can give a **higher weight to the values from the\n",
    "groups that were underrepresented.**\n"
   ]
  },
  {
   "cell_type": "code",
   "execution_count": null,
   "metadata": {},
   "outputs": [
    {
     "name": "stdout",
     "output_type": "stream",
     "text": [
      "Mean: 5134.7\n",
      "Trimmed mean: 56.666666666666664\n",
      "Weighted mean: 56.666666666666664\n"
     ]
    }
   ],
   "source": [
    "numbers_data = [2, 5, 10, 20, 50, 70, 90, 100, 1000, 50000];\n",
    "\n",
    "mean = sum(numbers_data) / len(numbers_data);\n",
    "\n",
    "print(f'Mean: {mean}');\n",
    "\n",
    "trimmed_mean = sum(numbers_data[2:-2]) / (len(numbers_data) - 4);\n",
    "\n",
    "print(f'Trimmed mean: {trimmed_mean}');\n",
    "\n",
    "weights = [0, 0, 1, 1, 1, 1, 1, 1, 0, 0];\n",
    "\n",
    "weighted_mean = sum([x * w for x, w in zip(numbers_data, weights)]) / sum(weights);\n",
    "\n",
    "print(f'Weighted mean: {weighted_mean}');"
   ]
  },
  {
   "attachments": {},
   "cell_type": "markdown",
   "metadata": {},
   "source": [
    "## Median & Robust Estimates\n",
    "The median is the middle number in sorted list of the data. \n",
    "* **The data needs to be sorted.**\n",
    "* For odd number of data values, the median is just the middle number. \n",
    "* For even number of data values, the median is average of data values that divides the sorted data into upper halves & lower halves. \n",
    "\n",
    "In  comparison to mean, **the median only depends on the values at the center of the sorted data.**\n",
    "\n",
    "*In some cases, Median can be a better metric for location, since it is not affected by the outliers. For same reasons, one uses a weighted mean, and it is also possible to compute a weighted median.*\n",
    "\n",
    "##### Weighted Median\n",
    "The data needs to be in sorted order. And, each data value has its own associated weight, instead of the middle number. The weighted median is a value, such that the sum of weights is equal for the lower and upper halves of the sorted list.\n",
    "\n",
    "* The weighted median, like median is robust to outliers. \n",
    "\n",
    "##### Outliers\n",
    "An outlier is an value that is very distant from the other values in the dataset, which can possibly skew the results of our estimate.\n",
    "\n",
    "**Outliers** cannot be considered invalid or errorneous by default, but **are very often the result of data errors, such as mixing the data of different units (kms vs meters) or bad readings from a sensor.**\n",
    " \n",
    "For data with outliers, the mean will be the poor estimate of location, while the median will still be valid. \n",
    "\n",
    "*In contrast to typical data analysis, where outliers are sometimes\n",
    "informative and sometimes a nuisance, in anomaly detection the\n",
    "points of interest are the outliers, and the greater mass of data\n",
    "serves primarily to define the “normal” against which anomalies\n",
    "are measured.*\n",
    "\n",
    "The median is not the only estimate of location. For example, *Trimmed mean can be thought of as a compromise between the median and the mean: it is robust to extreme values in the data, but uses more data to calculate the estimate for location*"
   ]
  },
  {
   "cell_type": "code",
   "execution_count": null,
   "metadata": {},
   "outputs": [
    {
     "name": "stdout",
     "output_type": "stream",
     "text": [
      "             State  Population  Murder.Rate Abbreviation\n",
      "0          Alabama     4779736          5.7           AL\n",
      "1           Alaska      710231          5.6           AK\n",
      "2          Arizona     6392017          4.7           AZ\n",
      "3         Arkansas     2915918          5.6           AR\n",
      "4       California    37253956          4.4           CA\n",
      "5         Colorado     5029196          2.8           CO\n",
      "6      Connecticut     3574097          2.4           CT\n",
      "7         Delaware      897934          5.8           DE\n",
      "8          Florida    18801310          5.8           FL\n",
      "9          Georgia     9687653          5.7           GA\n",
      "10          Hawaii     1360301          1.8           HI\n",
      "11           Idaho     1567582          2.0           ID\n",
      "12        Illinois    12830632          5.3           IL\n",
      "13         Indiana     6483802          5.0           IN\n",
      "14            Iowa     3046355          1.9           IA\n",
      "15          Kansas     2853118          3.1           KS\n",
      "16        Kentucky     4339367          3.6           KY\n",
      "17       Louisiana     4533372         10.3           LA\n",
      "18           Maine     1328361          1.6           ME\n",
      "19        Maryland     5773552          6.1           MD\n",
      "20   Massachusetts     6547629          2.0           MA\n",
      "21        Michigan     9883640          5.4           MI\n",
      "22       Minnesota     5303925          1.6           MN\n",
      "23     Mississippi     2967297          8.6           MS\n",
      "24        Missouri     5988927          6.6           MO\n",
      "25         Montana      989415          3.6           MT\n",
      "26        Nebraska     1826341          2.9           NE\n",
      "27          Nevada     2700551          6.0           NV\n",
      "28   New Hampshire     1316470          0.9           NH\n",
      "29      New Jersey     8791894          3.9           NJ\n",
      "30      New Mexico     2059179          4.8           NM\n",
      "31        New York    19378102          3.1           NY\n",
      "32  North Carolina     9535483          5.1           NC\n",
      "33    North Dakota      672591          3.0           ND\n",
      "34            Ohio    11536504          4.0           OH\n",
      "35        Oklahoma     3751351          4.5           OK\n",
      "36          Oregon     3831074          2.0           OR\n",
      "37    Pennsylvania    12702379          4.8           PA\n",
      "38    Rhode Island     1052567          2.4           RI\n",
      "39  South Carolina     4625364          6.4           SC\n",
      "40    South Dakota      814180          2.3           SD\n",
      "41       Tennessee     6346105          5.7           TN\n",
      "42           Texas    25145561          4.4           TX\n",
      "43            Utah     2763885          2.3           UT\n",
      "44         Vermont      625741          1.6           VT\n",
      "45        Virginia     8001024          4.1           VA\n",
      "46      Washington     6724540          2.5           WA\n",
      "47   West Virginia     1852994          4.0           WV\n",
      "48       Wisconsin     5686986          2.9           WI\n",
      "49         Wyoming      563626          2.7           WY\n"
     ]
    }
   ],
   "source": [
    "state = pd.read_csv('./data/state.csv');\n",
    "\n",
    "print(state);"
   ]
  },
  {
   "cell_type": "code",
   "execution_count": null,
   "metadata": {},
   "outputs": [],
   "source": [
    "population = state['Population'];\n",
    "murder_rates = state['Murder.Rate'];"
   ]
  },
  {
   "cell_type": "code",
   "execution_count": null,
   "metadata": {},
   "outputs": [
    {
     "data": {
      "text/plain": [
       "6162876.3"
      ]
     },
     "execution_count": 6,
     "metadata": {},
     "output_type": "execute_result"
    }
   ],
   "source": [
    "# Mean of the Population\n",
    "population.mean()"
   ]
  },
  {
   "cell_type": "code",
   "execution_count": null,
   "metadata": {},
   "outputs": [
    {
     "data": {
      "text/plain": [
       "4783697.125"
      ]
     },
     "execution_count": 7,
     "metadata": {},
     "output_type": "execute_result"
    }
   ],
   "source": [
    "# 0.1 means 10% of the data is trimmed from both ends.\n",
    "stats.trim_mean(population, 0.1)"
   ]
  },
  {
   "cell_type": "code",
   "execution_count": null,
   "metadata": {},
   "outputs": [
    {
     "data": {
      "text/plain": [
       "4436369.5"
      ]
     },
     "execution_count": 8,
     "metadata": {},
     "output_type": "execute_result"
    }
   ],
   "source": [
    "population.median()\n",
    "# Median < Trimmed Mean < Mean"
   ]
  },
  {
   "attachments": {},
   "cell_type": "markdown",
   "metadata": {},
   "source": [
    "In order to calculate the avergae murder rate in the country, we need to use weighted mean or median to account for population in the states.\n"
   ]
  },
  {
   "cell_type": "code",
   "execution_count": null,
   "metadata": {},
   "outputs": [
    {
     "data": {
      "text/plain": [
       "4.445833981123393"
      ]
     },
     "execution_count": 9,
     "metadata": {},
     "output_type": "execute_result"
    }
   ],
   "source": [
    "np.average(murder_rates, weights= population)\n"
   ]
  },
  {
   "cell_type": "code",
   "execution_count": null,
   "metadata": {},
   "outputs": [
    {
     "data": {
      "text/plain": [
       "4.4"
      ]
     },
     "execution_count": 10,
     "metadata": {},
     "output_type": "execute_result"
    }
   ],
   "source": [
    "wq.median(state['Murder.Rate'], weights=state['Population'])"
   ]
  },
  {
   "attachments": {},
   "cell_type": "markdown",
   "metadata": {},
   "source": [
    "-----\n",
    "## Estimates of Variability"
   ]
  },
  {
   "attachments": {},
   "cell_type": "markdown",
   "metadata": {},
   "source": [
    "Location is just one dimension in summarizing a feature. A second dimension, **variability**, (aka **dispersion**), measures whether the data values are tightly clustered or spread out. \n",
    "\n",
    "At the heart of statistics lies variability - measuring it, reducing it, distinguishing random from real variability, identifying the various sources of real variability, and making decisions in presence of it. "
   ]
  },
  {
   "attachments": {},
   "cell_type": "markdown",
   "metadata": {},
   "source": [
    "#### Key Terms\n",
    "\n",
    "**Deviations** (errors/ residuals) - difference b/w observed values and estimates of location. \n",
    "\n",
    "**Variance** (mean squared error) -sum of squared deviations from the mean divided by n-1, where n is the number of data values. \n",
    "\n",
    "**Standard Deviation**  - squared root of variance.\n",
    "\n",
    "**Mean Absolute Deviation** (l1-norm, Manhattan norm) - mean of absolute values of the deviations from the mean. \n",
    "\n",
    "**Mean absolute deviation from the median** - median of the absoluet values of the deviations from the median. \n",
    "\n",
    "**Range** - difference b/w the largest & the smallest value in a dataset. \n",
    "\n",
    "**Order Statistics** (ranks) - metrics based on the largest and the smallest value in a dataset. \n",
    "\n",
    "**Percentile** (quantile) - value such that P percent of the values take on this value or less, and (100-P) percent take on this value or more. \n",
    "\n",
    "**Interquartile range** (IQR) - difference b/w 75th and 25th percentile. \n",
    "\n",
    "** There are also different ways to measure variability.\n"
   ]
  },
  {
   "attachments": {},
   "cell_type": "markdown",
   "metadata": {},
   "source": [
    "### Standard Deviation & Related Estimates\n",
    "\n",
    "The most widely used estimates of variation are based on differences (deviations), betwewn the estimate of location and the observed data. \n",
    "\n",
    "For Set A, $\\set{1, 4, 4}$\n",
    "\n",
    "Mean = (1+4+4)/3 = 3\n",
    "Median = 4 (middle value)\n",
    "\n",
    "Deviations from Mean are $\\set{1-3, 4-3, 4-3}$ = $\\set{-2, 1, 1}$\n",
    "These deviations tells use how dispersed the data is around the central value. \n",
    "$\n",
    "  \\begin{aligned}\n",
    "     \\text{Mean Absolute Deviation =} \\frac{\\sum_{i=1}^{n}|x_i - \\bar{x}|}{n}\n",
    "  \\end{aligned}\n",
    "$\n",
    "\n",
    "where, $\\bar{x}$ is the sample mean.\n",
    "**Variance** and **Standard Deviation** are best-known estimates based on squared deviations. \n",
    "The variance is an average of the squared deviations, and the standard deviation is the squared root of the variance.\n",
    "\n",
    "$\n",
    "\\begin{aligned}\n",
    "   \\text{Variance, } s^2 = \\frac{\\sum_{i=1}^{n}{(x_i-\\bar{x})^2}}{n-1}\n",
    "\\end{aligned}\n",
    "$\n",
    "\n",
    "$\n",
    "\\begin{aligned}\n",
    "   \\text{Standard Deviation, } s = \\sqrt{\\text{Variance}}\n",
    "\\end{aligned}\n",
    "$\n",
    "\n",
    "***Needs better explanation\n",
    "\n",
    "The standard deviation is much easier to interpret than the variance, since it is on the same scale as the original data. Still, with its more complicated and less instutive formula, it might seem peculiar that **standard deviation** *is preffered in statistics over mean absolute deviation.* It owes its preeminence to statistical theory: *mathemati‐\n",
    "cally, working with squared values is much more convenient than absolute values,\n",
    "especially for statistical models*"
   ]
  },
  {
   "attachments": {},
   "cell_type": "markdown",
   "metadata": {},
   "source": [
    "### Robust Estimates of Deviation\n",
    "\n",
    "Variance, Standard Deviation or Deviation **are not robust to outliers** or extreme values. The variance, and standard deviation are especially sensitive to outliers since they are based on squared deviations.\n",
    "\n",
    "A robust estimate of variability is **Median Absolute Deviation (MAD)**: \n",
    "\n",
    "$\n",
    " \\begin{aligned}\n",
    "   \\text{Median Absolute Deviation} = \\text{Median} {(|x_1-m|, |x_2-m|, ... , |x_N-m|)}\n",
    " \\end{aligned}\n",
    "$\n",
    "\n",
    "where, m is the median. \n",
    "\n",
    "\\* It is also possible to compute trimmed Standard Deviation analogous to the trimmed mean. \n",
    "\n",
    "[=] The variance, standard deviation, mean absolute deviation are not equivalent estimates, even in the case where data comes from a normal distribution. In fact, the standard deviation is always greater than the mean absolute deviation. \n",
    "Sometimes, the median absolute deviation is multiplied by a constant scaling factor to put the MAD on the same scale as the standard deviation in the case of a normal distribution. The commonly used factor of 1.4826 means that 50% of the normal distribution fall within the range ±MAD. "
   ]
  },
  {
   "attachments": {},
   "cell_type": "markdown",
   "metadata": {},
   "source": [
    "----\n",
    "## Estimates based on Percentiles\n",
    "\n",
    "One more approach to estimate dispersion is to look at the spread of sorted data. Statistics based on sorted (ranked) data is refferd to as **Order Statistics**.\n",
    "\n",
    "Range is the most basic measure. The minimum and maximum values themselves are useful to know and are helpful in identifying outliers, but the range is extremely sensitive to outliers and not very useful as a general measure of dispersion in the data. In order to avoid senstivity to outliers we can look at the range after dropping values from each end. \n",
    "\n",
    "#### Percentiles\n",
    "In a dataset, $P^{th}$ percentile is a value such that at least P % of values take on this value or less, and at least (100-P) % of the values take on this value or less.\n",
    "\n",
    "For example, for $80^{th}$ percentile, sort the data, the proceed 80% of the way to the largest value. Note that, median is the same thing as $50^{th}$ percentile. \n",
    "\n",
    "** The quantile is same thing as percentile, with quantiles indexed by fractions, i.e, $80^{th}$ percentile is same as 0.8 quantile.\n",
    "\n",
    "A common measurement of variability is the difference between $25^{th}$ and the $75^{th}$ percentile, the **InterQuartile Range (IQR)**. \n",
    "\n",
    "For example, $\\set{3, 1, 2, 4, 7, 5, 6, 9, 8}$ \n",
    "\n",
    "After Sorting = $\\set{1, 2, 3, 4, 5, 6, 7, 8, 9}$\n",
    "$25^{th}$ percentile = 2.5\\\n",
    "$75^{th}$ percentile = 6.5\\\n",
    "Interquartile Range, IQR = 6.5 - 2.5 = 4\n",
    "\n",
    "[=] For very large data sets, calculating exact percentiles can be computationally very expensive since it requires sorting all the data values. ML and Statistical software use special algorithms, such as **Zhang-Wang-2007**, to get an approximate percentile that can be calculated very quickly and is guaranteed to have a certain accuracy. "
   ]
  },
  {
   "cell_type": "code",
   "execution_count": null,
   "metadata": {},
   "outputs": [
    {
     "name": "stdout",
     "output_type": "stream",
     "text": [
      "Population Standard Deviation: 6848235.347401142\n",
      "Population IQR: 4847308.0\n",
      "Population MAD: 3849876.1459979336\n"
     ]
    }
   ],
   "source": [
    "# Variability estimates of the state population \n",
    "\n",
    "#  Data set is loaded already... \n",
    "\n",
    "population_STD = population.std();\n",
    "print(f\"Population Standard Deviation: {population_STD}\");\n",
    "\n",
    "population_IQR =  population.quantile(0.75) - population.quantile(0.25);\n",
    "print(f'Population IQR: {population_IQR}');\n",
    "\n",
    "population_MAD = robust.scale.mad(population);\n",
    "print(f'Population MAD: {population_MAD}');\n",
    "\n"
   ]
  },
  {
   "attachments": {},
   "cell_type": "markdown",
   "metadata": {},
   "source": [
    "\\** The standard deviation is twice as large as MAD, this is not surprising since Standard deviation is sensitive to outliers."
   ]
  },
  {
   "attachments": {},
   "cell_type": "markdown",
   "metadata": {},
   "source": [
    "----- \n",
    "## Exploring the Data Distribution\n",
    "\n",
    "**Boxplot** - (Box & Whiskers Plot) - introduced by Tuckey as a quick way to visualise the distribution of data. \n",
    "\n",
    "**Frequency Table** - tally of the count of numeric data values that fall into a set of intervals (*bins*).\n",
    "\n",
    "**Histogram** - plot of frequency table, with bins on the x-axis, and count (proportions) on the y-axis. \n",
    "\n",
    "**Density Plots** - A smoothed version of histogram, *often* based on *Kernel Density Estimate*."
   ]
  },
  {
   "attachments": {},
   "cell_type": "markdown",
   "metadata": {},
   "source": [
    "Apart from measuring the spread of data. Percentiles are also valuable for summarizing the entire distribution. It is common to report the **quartiles (25th, 50th, 75th)**, and the **deciles (10th, 20th, ... 90th percentiles)**.\n",
    "\n",
    "*Percentiles are especially valuable for summarizing the tails (outer range) of the distribution*. Popular Culture has coined the term, one percenters to refer to the people in the top 99th percentile of the wealth. "
   ]
  },
  {
   "cell_type": "code",
   "execution_count": null,
   "metadata": {},
   "outputs": [
    {
     "name": "stdout",
     "output_type": "stream",
     "text": [
      "0.10    1.890\n",
      "0.25    2.425\n",
      "0.50    4.000\n",
      "0.75    5.550\n",
      "0.90    6.010\n",
      "0.95    6.510\n",
      "Name: Murder.Rate, dtype: float64\n"
     ]
    },
    {
     "data": {
      "text/plain": [
       "Text(0, 0.5, 'Population (millions)')"
      ]
     },
     "execution_count": 12,
     "metadata": {},
     "output_type": "execute_result"
    },
    {
     "data": {
      "image/png": "[encoded data removed]",
      "text/plain": [
       "<Figure size 640x480 with 1 Axes>"
      ]
     },
     "metadata": {},
     "output_type": "display_data"
    }
   ],
   "source": [
    "# Percentile of murder rate by state\n",
    "murder_rates_percentile_table = murder_rates.quantile([0.1, 0.25, 0.5, 0.75, 0.9, 0.95])\n",
    "\n",
    "print(murder_rates_percentile_table.transpose());\n",
    "\n",
    "ax = (population/1000000).plot.box();\n",
    "ax.set_ylabel('Population (millions)')"
   ]
  },
  {
   "attachments": {},
   "cell_type": "markdown",
   "metadata": {},
   "source": [
    "* There are some **high population outliers.**\n",
    "* The top & the bottom of the box are 75th & 25th percentiles, respectively. \n",
    "* The median is shown by horizontal line in the box. \n",
    "* The whiskers (extending lines) from top & bottom of the box indicate the range of bulk of the data. Any data outside of the whiskers is plotted as single points or circles (often considered outliers)\n",
    "\n",
    "*There are many variations of the boxplot, and may differ from platform per platform*\n"
   ]
  },
  {
   "attachments": {},
   "cell_type": "markdown",
   "metadata": {},
   "source": [
    "### Frequency Tables & Histograms\n",
    "A frequency table of a variable divides up the variable range into equally spaced seg‐\n",
    "ments and tells us how many values fall within each segment."
   ]
  },
  {
   "cell_type": "code",
   "execution_count": null,
   "metadata": {},
   "outputs": [],
   "source": [
    "binnedPopulation = pd.cut(population, 10)\n",
    "binnedPopulation.value_counts();\n"
   ]
  },
  {
   "cell_type": "code",
   "execution_count": null,
   "metadata": {},
   "outputs": [
    {
     "data": {
      "image/png": "[encoded data removed]",
      "text/plain": [
       "<Figure size 400x400 with 1 Axes>"
      ]
     },
     "metadata": {},
     "output_type": "display_data"
    }
   ],
   "source": [
    "# Plotting Histogram\n",
    "\n",
    "ax = (population/ 1_000_000).plot.hist(figsize = (4,4));\n",
    "ax.set_xlabel('Population (millions)');"
   ]
  },
  {
   "attachments": {},
   "cell_type": "markdown",
   "metadata": {},
   "source": [
    "* Empty bins are included in the graph. \n",
    "* The bins are of equal width. The number of bins (or, equivalently bin size) is upto the user.\n",
    "* Bars are contigous - no empty space shows between bars, unless there is an empty bin. \n",
    "\n",
    "[=] In statistical theory, location and variability are referred to as the first and second moments of a distribution. The third and fourth moments are called skewness and kurtosis. **Skewness** *refers to whether the data is skewed to larger or smaller values*, and **kurtosis** indicates the *propensity of the data to have extreme values.* Generally, **metrics are not used to measure skewness and kurtosis; instead, these are discovered through visual displays such as diagrams above.**"
   ]
  },
  {
   "attachments": {},
   "cell_type": "markdown",
   "metadata": {},
   "source": [
    "#### Density Plots and Histograms\n",
    "Density plots are related to histogram, and show the distribution of data values as a continous line. A density plot can be thought of as a smoothed histogram, although it is typically computed directly from the data through a *kernel density estimate*"
   ]
  },
  {
   "cell_type": "code",
   "execution_count": null,
   "metadata": {},
   "outputs": [
    {
     "data": {
      "image/png": "[encoded data removed]",
      "text/plain": [
       "<Figure size 640x480 with 1 Axes>"
      ]
     },
     "metadata": {},
     "output_type": "display_data"
    }
   ],
   "source": [
    "ax = murder_rates.plot.hist(density=True, xlim=[0,12], bins=range(1,12));\n",
    "murder_rates.plot.density(ax=ax);\n",
    "ax.set_xlabel('Murder Rates (per 100,000)');"
   ]
  },
  {
   "attachments": {},
   "cell_type": "markdown",
   "metadata": {},
   "source": [
    "* A density plot corresponds to plotting the histogram as a proportion rather than counts. *The scale of y-axis is the key distinction here.*\n",
    "* The total area under the density curve is 1.\n",
    "* Instead of count in bins you calculate areas under the curve between any two points on the **x-axis**, which corresponds to proportion of distribution between those two points. "
   ]
  },
  {
   "attachments": {},
   "cell_type": "markdown",
   "metadata": {},
   "source": [
    "----------------------------\n",
    "## Exploring Binary & Categorial Data\n",
    "\n",
    "**Mode** - mosr commonly occuring category or value in a dataset. \\\n",
    "**Expected Value** - when the categories can be associated with a numeric value, this gives an average value based on a category's probability of occurence. \\\n",
    "**Bar Charts** - frequency or proportion for each category plotted as bars. \\\n",
    "**Pie Charts** - frequency or proportion for each category plotted as wedges in a pie."
   ]
  },
  {
   "attachments": {},
   "cell_type": "markdown",
   "metadata": {},
   "source": [
    "Getting a summary of binary / categorical variable with a few categories is fairly easy, we just figure out the proportion of 1s, or the proportions of the important categories. "
   ]
  },
  {
   "cell_type": "code",
   "execution_count": null,
   "metadata": {},
   "outputs": [
    {
     "name": "stdout",
     "output_type": "stream",
     "text": [
      "    Carrier      ATC   Weather  Security    Inbound\n",
      "0  64263.16  84856.5  11235.42    343.15  118427.82\n"
     ]
    }
   ],
   "source": [
    "dfw = pd.read_csv('./data/dfw_airline.csv');\n",
    "\n",
    "print(dfw);\n"
   ]
  },
  {
   "cell_type": "code",
   "execution_count": null,
   "metadata": {},
   "outputs": [
    {
     "data": {
      "image/png": "[encoded data removed]",
      "text/plain": [
       "<Figure size 400x400 with 1 Axes>"
      ]
     },
     "metadata": {},
     "output_type": "display_data"
    }
   ],
   "source": [
    "ax = dfw.transpose().plot.bar(figsize=(4, 4), legend=False)\n",
    "ax.set_xlabel('Cause of delay');\n",
    "ax.set_ylabel('Count');"
   ]
  },
  {
   "attachments": {},
   "cell_type": "markdown",
   "metadata": {},
   "source": [
    "* A bar chart represembles a histogram. \n",
    "* In Bar Chart, x-axis represents different categories of a factor variable, while in a histogram, the x-axis represents values of a single variable on a numeric scale. \n",
    "* In Histogram, the bars are shown touching each other, with gaps indicating values that did not occur in the data. In a bar chart, the bars are shown separate from one another.\n",
    "\n",
    "\\* Pie charts are alternatives to bar charts, although statisticians and data visualization experts generally eschew pie charts as less visually informative."
   ]
  },
  {
   "attachments": {},
   "cell_type": "markdown",
   "metadata": {},
   "source": [
    "### Mode\n",
    "\n",
    "The mode is value, or values in case of a tie - that appears most often in the data. The mode is simply a summary statistic for categorial data, and is generally not used for numeric data. "
   ]
  },
  {
   "attachments": {},
   "cell_type": "markdown",
   "metadata": {},
   "source": [
    "#### Expected Value\n",
    "\n",
    "There is a set of categorical data, in which the categories represent or can be\n",
    "mapped to discrete values on the same scale.\n",
    "\n",
    "A marketer for a new cloud technology, for example, offers two levels of service, one priced at $300/month and another at $50/month. The marketer offers free webinars to generate leads, and the firm figures that 5% of the attendees will sign up for the $300 service, 15% will sign up for the $50 service, and 80% will not sign up for anything. This data can be summed up, for financial purposes, in a single “expected value,” which is a form of weighted mean, in which the weights are probabilities (5%, 15%, 80%).\n",
    "\n",
    "The expected value is calculated as follows,\n",
    "1. Multiply each outcome by its probability of occurence.\n",
    "2. Sum these values. \n",
    "\n",
    "The expected value if a webinar attendeee, is thus $22.50 per months\n",
    "\n",
    "$\\text{EV} = (0.05)(300) + (0.15)(50) + (0.80)(0) = 22.5$\n",
    "\n",
    "The expected value is really a form of weighted mean: it adds the ideas of future\n",
    "expectations and probability weights, often based on subjective judgment.\n",
    "\n",
    "Expected value is a fundamental concept in business valuation and capital budgeting—for example, the expected value of five years of profits from a new acquisition, or the expected cost savings from new patient management software at a clinic. \n",
    "\n",
    "##### [=] Notes\n",
    "- Categorical data is typically summed up in proportions and can be visualized in a\n",
    "bar chart. \\\n",
    "- Categories might represent distinct things (apples and oranges, male and female),\n",
    "levels of a factor variable (low, medium, and high), or numeric data that has been\n",
    "binned.\n",
    "- Expected value is the sum of values times their probability of occurrence, often\n",
    "used to sum up factor variable levels.\n",
    "\n",
    "Misleading Graphs: https://en.wikipedia.org/wiki/Misleading_graph\n"
   ]
  },
  {
   "attachments": {},
   "cell_type": "markdown",
   "metadata": {},
   "source": [
    "### Correlation\n",
    "\n",
    "Exploratory data analysis in many modeling projects (whether in data science or in\n",
    "research) involves examining correlation among predictors, and between predictors\n",
    "and a target variable.\n",
    "\n",
    "Variables X and Y (each with measured data) are said to be positively correlated if high values of X go with high values of Y, and low values of X go\n",
    "with low values of Y.\\\n",
    "If high values of X go with low values of Y, and vice versa, the\n",
    "variables are negatively correlated.\n"
   ]
  },
  {
   "attachments": {},
   "cell_type": "markdown",
   "metadata": {},
   "source": [
    "\n",
    "##### Correlation Coefficient\n",
    "A metric that measures the extent to which numberic variables are associated with one another. (ranges from -1 to +1).\n",
    "\n",
    "It gives an estimate of the correlation between two variables that always lie on the same scale. Person's correlation coefficient, is calculating by multiplying the deviations from the mean, for both the variables and divide by the product of the standard deviations. \n",
    "\n",
    "$\n",
    "\\begin{aligned}\n",
    "  \\text{r} = \\frac{\\sum_{i=1}^{n}{(x_i-\\bar{x})(y_i-\\bar{y})}}{(n-1)s_xs_y}\n",
    "\\end{aligned}\n",
    "$\n",
    "\n",
    "**The correlation coefficient always lies between +1 & -1**\n",
    "* +1 indicates (*perfect positive correlation*), and -1 indicates (*perfect negative correlation*); 0 indicates no correlation.\n",
    "* \n",
    "Variables can have an association that is not linear, in which case the correlation coefficient may not be a useful metric. The relationship between tax rates and revenue raised is an example. As the tax rates increase from 0, the revenue also increases.\n",
    "\n"
   ]
  },
  {
   "attachments": {},
   "cell_type": "markdown",
   "metadata": {},
   "source": [
    "\n",
    "##### Correlation Matrix\n",
    "A table where the variables are shown on both rows and columns, and the cell values are the correlations between the variables. \n",
    "\n",
    "Correlation matrix for calculating the correlation between the daily returns of banking stocks.\n",
    "\n",
    "##### Scatterplot \n",
    "A plot in which the x-axis is the value of one variable, and y-axis is the value of another. "
   ]
  },
  {
   "cell_type": "code",
   "execution_count": null,
   "metadata": {},
   "outputs": [
    {
     "name": "stdout",
     "output_type": "stream",
     "text": [
      "                   T       CTL       FTR        VZ      LVLT\n",
      "2012-07-02  0.422496  0.140847  0.070879  0.554180 -0.519998\n",
      "2012-07-03 -0.177448  0.066280  0.070879 -0.025976 -0.049999\n",
      "2012-07-05 -0.160548 -0.132563  0.055128 -0.051956 -0.180000\n",
      "2012-07-06  0.342205  0.132563  0.007875  0.140106 -0.359999\n",
      "2012-07-09  0.136883  0.124279 -0.023626  0.253943  0.180000\n",
      "...              ...       ...       ...       ...       ...\n",
      "2015-06-25  0.049342 -1.600000 -0.040000 -0.187790 -0.330002\n",
      "2015-06-26 -0.256586  0.039999 -0.070000  0.029650 -0.739998\n",
      "2015-06-29 -0.098685 -0.559999 -0.060000 -0.504063 -1.360000\n",
      "2015-06-30 -0.503298 -0.420000 -0.070000 -0.523829  0.199997\n",
      "2015-07-01 -0.019737  0.080000 -0.050000  0.355811  0.139999\n",
      "\n",
      "[754 rows x 5 columns]\n",
      "                 XLI       QQQ       SPY       DIA       GLD    VXX       USO  \\\n",
      "2012-07-02 -0.376098  0.096313  0.028223 -0.242796  0.419998 -10.40  0.000000   \n",
      "2012-07-03  0.376099  0.481576  0.874936  0.728405  0.490006  -3.52  0.250000   \n",
      "2012-07-05  0.150440  0.096313 -0.103487  0.149420  0.239991   6.56 -0.070000   \n",
      "2012-07-06 -0.141040 -0.491201  0.018819 -0.205449 -0.519989  -8.80 -0.180000   \n",
      "2012-07-09  0.244465 -0.048160 -0.056445 -0.168094  0.429992  -0.48  0.459999   \n",
      "\n",
      "                 IWM       XLE       XLY       XLU       XLB       XTL  \\\n",
      "2012-07-02  0.534641  0.028186  0.095759  0.098311 -0.093713  0.019076   \n",
      "2012-07-03  0.926067  0.995942  0.000000 -0.044686  0.337373  0.000000   \n",
      "2012-07-05 -0.171848 -0.460387  0.306431 -0.151938  0.103086  0.019072   \n",
      "2012-07-06 -0.229128  0.206706  0.153214  0.080437  0.018744 -0.429213   \n",
      "2012-07-09 -0.190939 -0.234892 -0.201098 -0.035751 -0.168687  0.000000   \n",
      "\n",
      "                 XLV       XLP       XLF       XLK  \n",
      "2012-07-02 -0.009529  0.313499  0.018999  0.075668  \n",
      "2012-07-03  0.000000  0.129087  0.104492  0.236462  \n",
      "2012-07-05 -0.142955 -0.073766 -0.142490  0.066211  \n",
      "2012-07-06 -0.095304  0.119865  0.066495 -0.227003  \n",
      "2012-07-09  0.352630 -0.064548  0.018999  0.009457  \n"
     ]
    },
    {
     "ename": "NameError",
     "evalue": "name 'plt' is not defined",
     "output_type": "error",
     "traceback": [
      "\u001b[0;31m---------------------------------------------------------------------------\u001b[0m",
      "\u001b[0;31mNameError\u001b[0m                                 Traceback (most recent call last)",
      "Cell \u001b[0;32mIn[20], line 21\u001b[0m\n\u001b[1;32m     17\u001b[0m \u001b[39mprint\u001b[39m(etfs\u001b[39m.\u001b[39mhead())\n\u001b[1;32m     19\u001b[0m \u001b[39m# Due to the large number of columns in this table, looking at the correlation matrix is cumbersome and it's more convenient to plot the correlation as a heatmap. The _seaborn_ package provides a convenient implementation for heatmaps.\u001b[39;00m\n\u001b[0;32m---> 21\u001b[0m fig, ax \u001b[39m=\u001b[39m plt\u001b[39m.\u001b[39msubplots(figsize\u001b[39m=\u001b[39m(\u001b[39m5\u001b[39m, \u001b[39m4\u001b[39m))\n\u001b[1;32m     22\u001b[0m ax \u001b[39m=\u001b[39m sns\u001b[39m.\u001b[39mheatmap(etfs\u001b[39m.\u001b[39mcorr(), vmin\u001b[39m=\u001b[39m\u001b[39m-\u001b[39m\u001b[39m1\u001b[39m, vmax\u001b[39m=\u001b[39m\u001b[39m1\u001b[39m, \n\u001b[1;32m     23\u001b[0m                  cmap\u001b[39m=\u001b[39msns\u001b[39m.\u001b[39mdiverging_palette(\u001b[39m20\u001b[39m, \u001b[39m220\u001b[39m, as_cmap\u001b[39m=\u001b[39m\u001b[39mTrue\u001b[39;00m),\n\u001b[1;32m     24\u001b[0m                  ax\u001b[39m=\u001b[39max)\n\u001b[1;32m     26\u001b[0m plt\u001b[39m.\u001b[39mtight_layout()\n",
      "\u001b[0;31mNameError\u001b[0m: name 'plt' is not defined"
     ]
    }
   ],
   "source": [
    "sp500_sym = pd.read_csv(\"./data/sp500_sectors.csv\");\n",
    "sp500_px = pd.read_csv(\"./data/sp500_data.csv\", index_col=0);\n",
    "\n",
    "# Table 1-7\n",
    "# Determine telecommunications symbols\n",
    "telecomSymbols = sp500_sym[sp500_sym['sector'] == 'telecommunications_services']['symbol']\n",
    "\n",
    "# Filter data for dates July 2012 through June 2015\n",
    "telecom = sp500_px.loc[sp500_px.index >= '2012-07-01', telecomSymbols]\n",
    "telecom.corr()\n",
    "print(telecom)\n",
    "\n",
    "# Next we focus on funds traded on major exchanges (sector == 'etf').\n",
    "\n",
    "etfs = sp500_px.loc[sp500_px.index > '2012-07-01', \n",
    "                    sp500_sym[sp500_sym['sector'] == 'etf']['symbol']]\n",
    "print(etfs.head())\n",
    "\n",
    "# Due to the large number of columns in this table, looking at the correlation matrix is cumbersome and it's more convenient to plot the correlation as a heatmap. The _seaborn_ package provides a convenient implementation for heatmaps.\n",
    "\n",
    "fig, ax = plt.subplots(figsize=(5, 4))\n",
    "ax = sns.heatmap(etfs.corr(), vmin=-1, vmax=1, \n",
    "                 cmap=sns.diverging_palette(20, 220, as_cmap=True),\n",
    "                 ax=ax)\n",
    "\n",
    "plt.tight_layout()\n",
    "plt.show()"
   ]
  }
 ],
 "metadata": {
  "kernelspec": {
   "display_name": "Python 3",
   "language": "python",
   "name": "python3"
  },
  "language_info": {
   "codemirror_mode": {
    "name": "ipython",
    "version": 3
   },
   "file_extension": ".py",
   "mimetype": "text/x-python",
   "name": "python",
   "nbconvert_exporter": "python",
   "pygments_lexer": "ipython3",
   "version": "3.10.10"
  },
  "orig_nbformat": 4,
  "vscode": {
   "interpreter": {
    "hash": "e7370f93d1d0cde622a1f8e1c04877d8463912d04d973331ad4851f04de6915a"
   }
  }
 },
 "nbformat": 4,
 "nbformat_minor": 2
}
