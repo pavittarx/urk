{
 "cells": [
  {
   "cell_type": "markdown",
   "metadata": {},
   "source": [
    "# Python"
   ]
  },
  {
   "cell_type": "markdown",
   "metadata": {},
   "source": [
    "## Printing \"Hello World!\""
   ]
  },
  {
   "cell_type": "code",
   "execution_count": 4,
   "metadata": {},
   "outputs": [
    {
     "name": "stdout",
     "output_type": "stream",
     "text": [
      "Hello World\n"
     ]
    }
   ],
   "source": [
    "print(\"Hello World\");"
   ]
  },
  {
   "cell_type": "markdown",
   "metadata": {},
   "source": [
    "## Current Running Version of Python"
   ]
  },
  {
   "cell_type": "code",
   "execution_count": 5,
   "metadata": {},
   "outputs": [
    {
     "name": "stdout",
     "output_type": "stream",
     "text": [
      "3.9.6 (default, Jun 30 2021, 10:22:16) \n",
      "[GCC 11.1.0]\n"
     ]
    }
   ],
   "source": [
    "import sys;\n",
    "\n",
    "print(sys.version);"
   ]
  },
  {
   "cell_type": "markdown",
   "metadata": {},
   "source": [
    "## Math & Variables in Python"
   ]
  },
  {
   "cell_type": "code",
   "execution_count": 12,
   "metadata": {},
   "outputs": [
    {
     "name": "stdout",
     "output_type": "stream",
     "text": [
      "Ops +   = 6\n",
      "Ops -   = -2\n",
      "Ops *   = 8\n",
      "Ops /   = 0.5\n",
      "Ops x^2 = 4\n"
     ]
    }
   ],
   "source": [
    "print(\"Ops +   =\", 2+4);\n",
    "print(\"Ops -   =\",  2-4);\n",
    "print(\"Ops *   =\", 2*4);\n",
    "print(\"Ops /   =\", 2/4);\n",
    "print(\"Ops x^2 =\", 2**2);\n",
    "print(\"Ops %   =\", 4%2);"
   ]
  },
  {
   "cell_type": "markdown",
   "metadata": {},
   "source": [
    "## Variables in Python"
   ]
  },
  {
   "cell_type": "code",
   "execution_count": 16,
   "metadata": {},
   "outputs": [
    {
     "name": "stdout",
     "output_type": "stream",
     "text": [
      "23\n",
      "Stooart\n",
      "True\n",
      "23.2\n"
     ]
    }
   ],
   "source": [
    "age = 23;\n",
    "name = \"Stooart\";\n",
    "isPythonFun = True;\n",
    "\n",
    "ageFloat = 23.2;\n",
    "\n",
    "print(age);\n",
    "print(name);\n",
    "print(isPythonFun);\n",
    "print(ageFloat);\n"
   ]
  },
  {
   "cell_type": "markdown",
   "metadata": {},
   "source": []
  }
 ],
 "metadata": {
  "interpreter": {
   "hash": "767d51c1340bd893661ea55ea3124f6de3c7a262a8b4abca0554b478b1e2ff90"
  },
  "kernelspec": {
   "display_name": "Python 3.9.6 64-bit",
   "name": "python3"
  },
  "language_info": {
   "codemirror_mode": {
    "name": "ipython",
    "version": 3
   },
   "file_extension": ".py",
   "mimetype": "text/x-python",
   "name": "python",
   "nbconvert_exporter": "python",
   "pygments_lexer": "ipython3",
   "version": "3.9.6"
  },
  "orig_nbformat": 4
 },
 "nbformat": 4,
 "nbformat_minor": 2
}